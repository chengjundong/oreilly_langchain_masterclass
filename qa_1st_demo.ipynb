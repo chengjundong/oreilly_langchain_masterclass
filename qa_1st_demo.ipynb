{
 "cells": [
  {
   "cell_type": "code",
   "execution_count": 1,
   "metadata": {},
   "outputs": [],
   "source": [
    "## Installation\n",
    "\n",
    "## pip install ollama\n",
    "## pip install PyPDF2\n",
    "## pip install langchain\n",
    "## pip install tiktoken\n",
    "## pip install faiss-cpu"
   ]
  },
  {
   "cell_type": "code",
   "execution_count": 2,
   "metadata": {},
   "outputs": [],
   "source": [
    "from PyPDF2 import PdfReader\n",
    "from langchain.text_splitter import CharacterTextSplitter\n",
    "from langchain.vectorstores import FAISS\n",
    "from langchain.chains.question_answering import load_qa_chain\n",
    "\n",
    " "
   ]
  },
  {
   "cell_type": "code",
   "execution_count": 3,
   "metadata": {},
   "outputs": [
    {
     "name": "stdout",
     "output_type": "stream",
     "text": [
      "\n",
      "I'm just an AI, I don't have access to real-time data or future events. However, I can suggest some resources where you might be able to find the information you're looking for:\n",
      "\n",
      "1. eBay Investor Relations: You can find eBay's financial information, including revenue figures, on the company's investor relations website. eBay typically releases its quarterly earnings results within 45 days of the end of each quarter.\n",
      "2. SEC Filings: eBay is required to file its financial reports with the Securities and Exchange Commission (SEC). You can access these filings on the SEC's website, including the company's annual report on Form 10-K, quarterly reports on Form 10-Q, and current reports on Form 8-K.\n",
      "3. Financial News Websites: You can check financial news websites such as CNBC, Bloomberg, or Yahoo Finance for eBay's quarterly revenue figures. These websites often report on company earnings and provide analysis and commentary on the results.\n",
      "4. Analyst Estimates: Analysts who cover eBay often publish estimates of the company's quarterly revenue. You can find these estimates on financial websites such as TipRanks or Estimize. Keep in mind that analyst estimates are just that - estimates, and they may not always be accurate.\n",
      "\n",
      "Please note that I'm a large language model, I do not have access to real-time data or future events. The information I provide is based on my training data, and I cannot guarantee the accuracy of the information I provide.\n"
     ]
    }
   ],
   "source": [
    "import ollama\n",
    "response = ollama.chat(model='llama2:13b', messages=[\n",
    "  {\n",
    "    'role': 'user',\n",
    "    'content': 'do you know ebay 2024 Q4 revenue?',\n",
    "  },\n",
    "])\n",
    "print(response['message']['content'])"
   ]
  },
  {
   "cell_type": "code",
   "execution_count": null,
   "metadata": {},
   "outputs": [],
   "source": []
  }
 ],
 "metadata": {
  "kernelspec": {
   "display_name": "Python 3 (ipykernel)",
   "language": "python",
   "name": "python3"
  },
  "language_info": {
   "codemirror_mode": {
    "name": "ipython",
    "version": 3
   },
   "file_extension": ".py",
   "mimetype": "text/x-python",
   "name": "python",
   "nbconvert_exporter": "python",
   "pygments_lexer": "ipython3",
   "version": "3.12.2"
  }
 },
 "nbformat": 4,
 "nbformat_minor": 4
}
