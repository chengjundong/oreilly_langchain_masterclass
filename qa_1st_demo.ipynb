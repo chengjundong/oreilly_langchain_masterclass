{
 "cells": [
  {
   "cell_type": "code",
   "execution_count": 9,
   "metadata": {},
   "outputs": [],
   "source": [
    "import ollama\n",
    "from langchain_community.document_loaders import PyPDFLoader\n",
    "from langchain.text_splitter import CharacterTextSplitter\n",
    "from langchain.text_splitter import RecursiveCharacterTextSplitter\n",
    "from langchain.embeddings import OllamaEmbeddings\n",
    "from langchain.vectorstores import Chroma"
   ]
  },
  {
   "cell_type": "code",
   "execution_count": null,
   "metadata": {},
   "outputs": [],
   "source": [
    "# try to ask ebay 2023 Q4 revenue Since, it shouldn't be trained by this data. So, model can't answer it\n",
    "question = 'do you know ebay 2023 fourth quarter revenue?'\n",
    "response = ollama.generate(model='llama2:13b', prompt=question)\n",
    "print(response['response'])"
   ]
  },
  {
   "cell_type": "code",
   "execution_count": 11,
   "metadata": {},
   "outputs": [],
   "source": [
    "# load PDF\n",
    "loader = PyPDFLoader('eBay_2023_q4_result.pdf')\n",
    "pages = loader.load_and_split()"
   ]
  },
  {
   "cell_type": "code",
   "execution_count": 12,
   "metadata": {},
   "outputs": [],
   "source": [
    "text_splitter = RecursiveCharacterTextSplitter(chunk_size=500, chunk_overlap=0)\n",
    "final_context = text_splitter.split_documents(pages)"
   ]
  },
  {
   "cell_type": "code",
   "execution_count": 13,
   "metadata": {},
   "outputs": [],
   "source": [
    "# emdedding & store in vectorstore\n",
    "oembed = OllamaEmbeddings(base_url='http://localhost:11434', model='llama2:13b')\n",
    "vectorstore = Chroma.from_documents(documents=final_context, embedding=oembed)"
   ]
  },
  {
   "cell_type": "code",
   "execution_count": null,
   "metadata": {},
   "outputs": [],
   "source": [
    "# do similarity search to find context and ask question again\n",
    "docs = vectorstore.similarity_search(question)\n",
    "qustion_with_context = 'Here is ebay 2023 year result: {}. Then, please answer {}.'.format(docs[0].page_content, question)\n",
    "response = ollama.generate(model='llama2:13b', prompt=qustion_with_context)\n",
    "print(response['response'])"
   ]
  },
  {
   "cell_type": "markdown",
   "metadata": {},
   "source": [
    "## Reference\n",
    "\n",
    "- [Chromadb](https://python.langchain.com/docs/integrations/vectorstores/chroma)\n",
    "- [ChatOllama](https://python.langchain.com/docs/integrations/chat/ollama)\n",
    "- [Ebay 2023 Year Result](https://www.ebayinc.com/stories/news/ebay-inc-reports-fourth-quarter-and-full-year-2023-results/)\n",
    "\n",
    "## Q&A\n",
    "### 1 To install chroma, but encounter error \"\" \n",
    "need to install these two\n",
    "```shell\n",
    "sudo apt-get install build-essential\n",
    "sudo apt-get install python3-dev\n",
    "```\n",
    "then execute\n",
    "```shell\n",
    " pip install chromadb\n",
    "```"
   ]
  }
 ],
 "metadata": {
  "kernelspec": {
   "display_name": "Python 3 (ipykernel)",
   "language": "python",
   "name": "python3"
  },
  "language_info": {
   "codemirror_mode": {
    "name": "ipython",
    "version": 3
   },
   "file_extension": ".py",
   "mimetype": "text/x-python",
   "name": "python",
   "nbconvert_exporter": "python",
   "pygments_lexer": "ipython3",
   "version": "3.12.1"
  }
 },
 "nbformat": 4,
 "nbformat_minor": 4
}
